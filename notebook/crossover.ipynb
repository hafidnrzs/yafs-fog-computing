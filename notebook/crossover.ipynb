{
 "cells": [
  {
   "cell_type": "code",
   "execution_count": 6,
   "id": "57612597",
   "metadata": {},
   "outputs": [
    {
     "name": "stdout",
     "output_type": "stream",
     "text": [
      "Before crossover:\n",
      "chrom_1: [1, 2, 3, 4, 5, 6, 7, 8, 9, 10, 11, 12, 13, 14, 15, 16, 17, 18, 19, 20, 21, 22, 23, 24, 25]\n",
      "chrom_2: [101, 102, 103, 104, 105, 106, 107, 108, 109, 110, 111, 112, 113, 114, 115, 116, 117, 118, 119, 120, 121, 122, 123, 124, 125]\n",
      "cop_1: 7, cop_2: 18\n",
      "After crossover:\n",
      "chrom_1: [1, 2, 3, 4, 5, 6, 7, 108, 109, 110, 111, 112, 113, 114, 115, 116, 117, 118, 19, 20, 21, 22, 23, 24, 25]\n",
      "chrom_2: [101, 102, 103, 104, 105, 106, 107, 8, 9, 10, 11, 12, 13, 14, 15, 16, 17, 18, 119, 120, 121, 122, 123, 124, 125]\n"
     ]
    }
   ],
   "source": [
    "import random\n",
    "from math import floor\n",
    "\n",
    "def two_point_crossover(\n",
    "    lenchrom:int, # length of chromosome\n",
    "    div:int, # division parameter\n",
    "    chrom_1:list, # first chromosome\n",
    "    chrom_2:list # second chromosome\n",
    "):\n",
    "  # Initialize two cross-over point cop_1, cop_2\n",
    "  cop_1, cop_2 = 0, 0\n",
    "\n",
    "  # Select two ranges {lindex_1, hindex_1} and {lindex_2, hindex_2} for finding crossover points\n",
    "  lindex_1 = int(floor(lenchrom * 1 / div))\n",
    "  hindex_1 = int(floor(lenchrom * 2 / div))\n",
    "  lindex_2 = int(floor(lenchrom * (div - 2) / div))\n",
    "  hindex_2 = int(floor(lenchrom * (div - 1) / div))\n",
    "\n",
    "  # Select two crossover points randomly in two predefined ranges\n",
    "  cop_1 = random.randint(lindex_1, hindex_1)\n",
    "  cop_2 = random.randint(lindex_2, hindex_2)\n",
    "\n",
    "  print(f\"cop_1: {cop_1}, cop_2: {cop_2}\")\n",
    "\n",
    "  # Exchange the content of two randomly selected chromosomes from index cop_1 to index cop_2\n",
    "  if cop_1 > cop_2:\n",
    "      cop_1, cop_2 = cop_2, cop_1\n",
    "      \n",
    "  temp = chrom_1[cop_1:cop_2]\n",
    "  chrom_1[cop_1:cop_2] = chrom_2[cop_1:cop_2]\n",
    "  chrom_2[cop_1:cop_2] = temp\n",
    "\n",
    "  return chrom_1, chrom_2\n",
    "\n",
    "# Simulation\n",
    "# random.seed(42) # set seed for reproducibility\n",
    "lenchrom = 25 # length of chromosome\n",
    "div = 6 # division parameter\n",
    "\n",
    "chrom_1 = list(range(1, lenchrom + 1))\n",
    "chrom_2 = list(range(101, 101 + lenchrom))\n",
    "print(\"Before crossover:\")\n",
    "print(f\"chrom_1: {chrom_1}\")\n",
    "print(f\"chrom_2: {chrom_2}\")\n",
    "\n",
    "chrom_1, chrom_2 = two_point_crossover(lenchrom, div, chrom_1, chrom_2)\n",
    "print(\"After crossover:\")\n",
    "print(f\"chrom_1: {chrom_1}\")\n",
    "print(f\"chrom_2: {chrom_2}\")"
   ]
  }
 ],
 "metadata": {
  "kernelspec": {
   "display_name": ".venv",
   "language": "python",
   "name": "python3"
  },
  "language_info": {
   "codemirror_mode": {
    "name": "ipython",
    "version": 3
   },
   "file_extension": ".py",
   "mimetype": "text/x-python",
   "name": "python",
   "nbconvert_exporter": "python",
   "pygments_lexer": "ipython3",
   "version": "3.10.15"
  }
 },
 "nbformat": 4,
 "nbformat_minor": 5
}
