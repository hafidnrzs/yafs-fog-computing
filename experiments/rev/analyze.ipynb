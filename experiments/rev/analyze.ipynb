{
 "cells": [
  {
   "cell_type": "code",
   "execution_count": 4,
   "id": "2cb6072e",
   "metadata": {},
   "outputs": [
    {
     "name": "stdout",
     "output_type": "stream",
     "text": [
      "Request user berasal dari 25 gateway device, yaitu:\n",
      "{7, 25, 31, 32, 37, 41, 44, 47, 49, 54, 56, 57, 73, 74, 76, 77, 79, 80, 85, 86, 89, 90, 93, 94, 99}\n"
     ]
    }
   ],
   "source": [
    "import json\n",
    "with open('data/usersDefinition.json', 'r') as file:\n",
    "    usersDefinition = json.load(file)\n",
    "\n",
    "\"\"\"\n",
    "struktur dari usersDefinition.json:\n",
    "{ \n",
    "sources:\n",
    "    list of user workload, each with:\n",
    "    {\n",
    "        app: str, # application name\n",
    "        message: str, # message to be sent\n",
    "        id_resource: int # ID of the resource (device) to which the user is connected\n",
    "        lambda: int # lamda value\n",
    "    }\n",
    "}\n",
    "\"\"\"\n",
    "\n",
    "# load set of id_resource from usersDefinition\n",
    "id_resources = set()\n",
    "for user in usersDefinition['sources']:\n",
    "    id_resources.add(user['id_resource'])\n",
    "\n",
    "print(f\"Request user berasal dari {len(id_resources)} gateway device, yaitu:\")\n",
    "print(id_resources)"
   ]
  },
  {
   "cell_type": "markdown",
   "id": "1bf50da2",
   "metadata": {},
   "source": [
    "## Hasil service placement\n",
    "\n",
    "10 application\n",
    "```\n",
    "Number of services in cloud (partition) (servicesInCloud): 62\n",
    "Number of services in fog (partition) (servicesInFog): 205\n",
    "1.7009522914886475 time for partition-based optimization\n",
    "\n",
    "Number of services in cloud (ILP) (servicesInCloud): 62\n",
    "Number of services in fog (ILP) (servicesInFog): 225\n",
    "2.5376319885253906 time for ILP-based optimization\n",
    "```\n",
    "\n",
    "20 application\n",
    "```\n",
    "Number of services in cloud (partition) (servicesInCloud): 127\n",
    "Number of services in fog (partition) (servicesInFog): 474\n",
    "2.7473554611206055 time for partition-based optimization\n",
    "\n",
    "Number of services in cloud (ILP) (servicesInCloud): 127\n",
    "Number of services in fog (ILP) (servicesInFog): 521\n",
    "307.02191042900085 time for ILP-based optimization\n",
    "```\n",
    "\n",
    "40 application\n",
    "```\n",
    "Number of services in cloud (partition) (servicesInCloud): 251\n",
    "Number of services in fog (partition) (servicesInFog): 470\n",
    "3.0844497680664062 time for partition-based optimization\n",
    "\n",
    "Number of services in cloud (ILP) (servicesInCloud): 255\n",
    "Number of services in fog (ILP) (servicesInFog): 527\n",
    "7.306840896606445 time for ILP-based optimization\n",
    "```\n",
    "\n",
    "60 application\n",
    "```\n",
    "Number of services in cloud (partition) (servicesInCloud): 391\n",
    "Number of services in fog (partition) (servicesInFog): 508\n",
    "6.992650747299194 time for partition-based optimization\n",
    "\n",
    "Number of services in cloud (ILP) (servicesInCloud): 391\n",
    "Number of services in fog (ILP) (servicesInFog): 548\n",
    "10.341204643249512 time for ILP-based optimization\n",
    "```\n",
    "\n",
    "\n",
    "80 application\n",
    "```\n",
    "Number of services in cloud (partition) (servicesInCloud): 515\n",
    "Number of services in fog (partition) (servicesInFog): 460\n",
    "8.166857719421387 time for partition-based optimization\n",
    "\n",
    "Number of services in cloud (ILP) (servicesInCloud): 534\n",
    "Number of services in fog (ILP) (servicesInFog): 508\n",
    "12.981829404830933 time for ILP-based optimization\n",
    "```"
   ]
  }
 ],
 "metadata": {
  "kernelspec": {
   "display_name": "yafs-fog-computing",
   "language": "python",
   "name": "python3"
  },
  "language_info": {
   "codemirror_mode": {
    "name": "ipython",
    "version": 3
   },
   "file_extension": ".py",
   "mimetype": "text/x-python",
   "name": "python",
   "nbconvert_exporter": "python",
   "pygments_lexer": "ipython3",
   "version": "3.9.7"
  }
 },
 "nbformat": 4,
 "nbformat_minor": 5
}
