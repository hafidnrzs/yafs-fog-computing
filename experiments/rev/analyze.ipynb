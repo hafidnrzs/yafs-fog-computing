{
 "cells": [
  {
   "cell_type": "code",
   "execution_count": 4,
   "id": "2cb6072e",
   "metadata": {},
   "outputs": [
    {
     "name": "stdout",
     "output_type": "stream",
     "text": [
      "Request user berasal dari 25 gateway device, yaitu:\n",
      "{7, 25, 31, 32, 37, 41, 44, 47, 49, 54, 56, 57, 73, 74, 76, 77, 79, 80, 85, 86, 89, 90, 93, 94, 99}\n"
     ]
    }
   ],
   "source": [
    "import json\n",
    "with open('data/usersDefinition.json', 'r') as file:\n",
    "    usersDefinition = json.load(file)\n",
    "\n",
    "\"\"\"\n",
    "struktur dari usersDefinition.json:\n",
    "{ \n",
    "sources:\n",
    "    list of user workload, each with:\n",
    "    {\n",
    "        app: str, # application name\n",
    "        message: str, # message to be sent\n",
    "        id_resource: int # ID of the resource (device) to which the user is connected\n",
    "        lambda: int # lamda value\n",
    "    }\n",
    "}\n",
    "\"\"\"\n",
    "\n",
    "# load set of id_resource from usersDefinition\n",
    "id_resources = set()\n",
    "for user in usersDefinition['sources']:\n",
    "    id_resources.add(user['id_resource'])\n",
    "\n",
    "print(f\"Request user berasal dari {len(id_resources)} gateway device, yaitu:\")\n",
    "print(id_resources)"
   ]
  }
 ],
 "metadata": {
  "kernelspec": {
   "display_name": "yafs-fog-computing",
   "language": "python",
   "name": "python3"
  },
  "language_info": {
   "codemirror_mode": {
    "name": "ipython",
    "version": 3
   },
   "file_extension": ".py",
   "mimetype": "text/x-python",
   "name": "python",
   "nbconvert_exporter": "python",
   "pygments_lexer": "ipython3",
   "version": "3.9.7"
  }
 },
 "nbformat": 4,
 "nbformat_minor": 5
}
