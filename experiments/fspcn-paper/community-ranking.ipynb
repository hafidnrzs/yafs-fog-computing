{
 "cells": [
  {
   "cell_type": "code",
   "execution_count": null,
   "id": "d89c3f96",
   "metadata": {},
   "outputs": [],
   "source": [
    "def community_ranking(\n",
    "    C, # genetic based communities\n",
    "    G, # topology\n",
    "):\n",
    "  # Generate communities by genetic algorithm\n",
    "  # C <- Communities resulted from genetic algorithm\n",
    "  # Calculate neighborhood distance list for each community C_i in C\n",
    "  for C_i in C:\n",
    "    for C_j in C:\n",
    "      # find common neighbors between each two communities C_i, C_j\n",
    "      neighborNumber = G.common_neighbors(C_i, C_j)\n",
    "      neighborDistance[commRank][i].append(1 / len(neighborNumber))\n",
    "      neighborDistance[commId][i].append(j)\n",
    "  # sort communities based on neighborhood distance\n",
    "  for C_i in C:\n",
    "    neighborRank[i] = sorted(neighborDistance[i], key=commRank, reverse=False)\n",
    "\n",
    "  return neighborRank # list of ranked communities\n"
   ]
  }
 ],
 "metadata": {
  "language_info": {
   "name": "python"
  }
 },
 "nbformat": 4,
 "nbformat_minor": 5
}
