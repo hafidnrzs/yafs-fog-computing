{
 "cells": [
  {
   "cell_type": "code",
   "execution_count": null,
   "id": "8d99ad89",
   "metadata": {},
   "outputs": [],
   "source": [
    "def application_placement(\n",
    "    communities, # list of ranked communities,\n",
    "    SAL, # Sorted Application List (SAL),\n",
    "    ARL # Application Request List (ARL)\n",
    "):\n",
    "  # Place sorted applications by deadlines in the communities\n",
    "  for appId in SAL:\n",
    "    # Read request list of app\n",
    "    for reqId in ARL[appId]:\n",
    "      # find the home community which the requester is connected to it\n",
    "      commId = search(communities, reqId)\n",
    "    if appId in existing_placement(appId, commId):\n",
    "      break\n",
    "    else:\n",
    "      # check if there are sufficient resources in home communities then place app\n",
    "      for service in SAL[appId]:\n",
    "        for dev in communities[commId]:\n",
    "          if \"there is sufficient resources in dev\":\n",
    "            # placementMatrix[service] = dev\n",
    "            nserv += 1\n",
    "      if nserv == len(SAL[appId]):\n",
    "        # remaining_resources = update(community[resources[appId], commId])\n",
    "        existing_placement.append(appId, commId)\n",
    "      else:\n",
    "        # Find neighbor communities with sufficient resource for app placement\n",
    "        for item in neighborRank[commId]:\n",
    "          commRank = item[0]\n",
    "          rankId = item[1]\n",
    "          if commRank <= rank_threshold:\n",
    "            nserv = 0\n",
    "            for service in SAL[appId]:\n",
    "              for dev in communities[rankId]:\n",
    "                if \"there is sufficient resources in dev\":\n",
    "                  # placementMatrix[service] = dev\n",
    "                  nserv += 1\n",
    "          if nserv == len(SAL[appId]):\n",
    "            # remaining_resources = update(community[resources[appId], rankId)\n",
    "            break\n",
    "  return placementMatrix\n",
    "\n",
    "def search(communities, reqId):\n",
    "  return 0\n",
    "\n",
    "def existing_placement(appId, commId):\n",
    "  return 0"
   ]
  }
 ],
 "metadata": {
  "language_info": {
   "name": "python"
  }
 },
 "nbformat": 4,
 "nbformat_minor": 5
}
